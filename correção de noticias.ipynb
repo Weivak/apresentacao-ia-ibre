{
 "cells": [
  {
   "attachments": {},
   "cell_type": "markdown",
   "metadata": {},
   "source": [
    "Correção da Base de Dados do Incerteza\n",
    "\n",
    "Jos�  Eduardo Agualusa. O autor descreve o processo real que ocorreu, ap�s a pris�o dos jovens, como se fosse a m�dia enumerando os acontecimentos   �poca"
   ]
  },
  {
   "cell_type": "code",
   "execution_count": 9,
   "metadata": {},
   "outputs": [],
   "source": [
    "import csv\n",
    "import openai\n",
    "\n",
    "def get_keys():\n",
    "    key = csv.reader(open('openai_key.csv', 'r'), delimiter=',')\n",
    "\n",
    "    for row in key:\n",
    "        openai_key = row[0]\n",
    "\n",
    "    return openai_key\n",
    "\n",
    "openai.api_key = get_keys()\n",
    "\n",
    "def correct(text):\n",
    "    \"\"\"\n",
    "    Função que faz a requisição da api e retorna o texto corrijido \n",
    "    \"\"\"\n",
    "    response = openai.Completion.create(\n",
    "    model=\"text-davinci-003\",\n",
    "    prompt=text,\n",
    "    temperature=0,\n",
    "    max_tokens=4000,\n",
    "    top_p=1.0,\n",
    "    frequency_penalty=0.0,\n",
    "    presence_penalty=0.0\n",
    "    )\n",
    "    return response\n",
    "\n",
    "def get_text(incorrect_text):\n",
    "    text = \"Corrija o texto:\\n\\n\" + incorrect_text\n",
    "    correct_text = correct(text)\n",
    "    return correct_text"
   ]
  },
  {
   "cell_type": "code",
   "execution_count": 16,
   "metadata": {},
   "outputs": [],
   "source": [
    "# texto de notícia contendo a palavra mídia, esta pode ser entendida como média, mídia ou media por alguns modelos de PLN\n",
    "incorrect_text = 'Jos�  Eduardo Agualusa. O autor descreve o processo real que ocorreu, \\\n",
    "    ap�s a pris�o dos jovens, como se fosse a m�dia enumerando os acontecimentos   �poca.'\n"
   ]
  },
  {
   "cell_type": "code",
   "execution_count": 17,
   "metadata": {},
   "outputs": [
    {
     "data": {
      "text/plain": [
       "'José Eduardo Agualusa. O autor descreve o processo real que ocorreu após a prisão dos jovens, como se fosse a mídia enumerando os acontecimentos da época.'"
      ]
     },
     "execution_count": 17,
     "metadata": {},
     "output_type": "execute_result"
    }
   ],
   "source": [
    "\n",
    "correct_text = get_text(incorrect_text)\n",
    "correct_text = correct_text['choices'][0]['text']\n",
    "correct_text.replace('\\n\\n','')"
   ]
  },
  {
   "attachments": {},
   "cell_type": "markdown",
   "metadata": {},
   "source": [
    "## Trecho incorreto \n",
    "Jos�  Eduardo Agualusa. O autor descreve o processo real que ocorreu, ap�s a pris�o dos jovens, como se fosse a m�dia enumerando os acontecimentos   �poca.\n",
    "\n",
    "## Trecho após correção\n",
    "José Eduardo Agualusa. O autor descreve o processo real que ocorreu após a prisão dos jovens, como se fosse a mídia enumerando os acontecimentos da época."
   ]
  }
 ],
 "metadata": {
  "kernelspec": {
   "display_name": "base",
   "language": "python",
   "name": "python3"
  },
  "language_info": {
   "codemirror_mode": {
    "name": "ipython",
    "version": 3
   },
   "file_extension": ".py",
   "mimetype": "text/x-python",
   "name": "python",
   "nbconvert_exporter": "python",
   "pygments_lexer": "ipython3",
   "version": "3.9.13"
  },
  "orig_nbformat": 4,
  "vscode": {
   "interpreter": {
    "hash": "5c4e6a5823fe9a4cb437ffe73176ff7ae740c2c60e10fbc3628d85d4e9ab9fdc"
   }
  }
 },
 "nbformat": 4,
 "nbformat_minor": 2
}
